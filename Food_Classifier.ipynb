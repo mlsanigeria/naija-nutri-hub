{
  "cells": [
    {
      "cell_type": "markdown",
      "metadata": {
        "id": "view-in-github",
        "colab_type": "text"
      },
      "source": [
        "<a href=\"https://colab.research.google.com/github/temiloluwamakinde1-design/naija-nutri-hub/blob/main/Food_Classifier.ipynb\" target=\"_parent\"><img src=\"https://colab.research.google.com/assets/colab-badge.svg\" alt=\"Open In Colab\"/></a>"
      ]
    },
    {
      "cell_type": "code",
      "execution_count": null,
      "metadata": {
        "id": "i9LZuJoiubtT"
      },
      "outputs": [],
      "source": [
        "import tensorflow as tf\n",
        "import numpy as np\n",
        "import matplotlib.pyplot as plt\n",
        "import zipfile\n",
        "import os\n",
        "import shutil\n",
        "import random\n",
        "from tensorflow.keras.preprocessing.image import ImageDataGenerator\n",
        "from tensorflow.keras.applications import ResNet50\n",
        "from tensorflow.keras.applications.resnet50 import preprocess_input, decode_predictions\n",
        "from tensorflow.keras.layers import Dense, Flatten, GlobalAveragePooling2D\n",
        "from tensorflow.keras.models import Model\n",
        "from tensorflow.keras.preprocessing import image\n",
        "from google.colab import files\n",
        "import warnings\n",
        "import pydot\n",
        "import graphviz\n",
        "import gdown\n",
        "\n",
        "\n",
        "# Suppress warnings and configure TensorFlow logging\n",
        "warnings.filterwarnings('ignore', category=FutureWarning)\n",
        "tf.get_logger().setLevel('ERROR')\n"
      ]
    },
    {
      "cell_type": "code",
      "execution_count": 2,
      "metadata": {
        "colab": {
          "base_uri": "https://localhost:8080/"
        },
        "id": "m1_kUexdnMYP",
        "outputId": "7b62cd6c-d311-448a-cfe3-dfe898613dc2"
      },
      "outputs": [
        {
          "output_type": "stream",
          "name": "stdout",
          "text": [
            "Num GPU's Available: 0\n"
          ]
        }
      ],
      "source": [
        "print(\"Num GPU's Available:\", len(tf.config.list_physical_devices(\"GPU\")))"
      ]
    },
    {
      "cell_type": "code",
      "execution_count": 13,
      "metadata": {
        "id": "tSC51hNUmkOr",
        "colab": {
          "base_uri": "https://localhost:8080/"
        },
        "outputId": "c52d0bd1-f0ff-44dd-9787-ca68f8b0f4c9"
      },
      "outputs": [
        {
          "output_type": "stream",
          "name": "stdout",
          "text": [
            "Drive already mounted at /content/drive; to attempt to forcibly remount, call drive.mount(\"/content/drive\", force_remount=True).\n"
          ]
        }
      ],
      "source": [
        "# connecting my drive to google colab\n",
        "from google.colab import drive\n",
        "drive.mount('/content/drive')"
      ]
    },
    {
      "cell_type": "code",
      "source": [
        "!ls /content/drive/MyDrive"
      ],
      "metadata": {
        "colab": {
          "base_uri": "https://localhost:8080/"
        },
        "id": "nrrL6ZcRM_k9",
        "outputId": "1502cd08-879b-489f-d630-eb51b156cf52"
      },
      "execution_count": 11,
      "outputs": [
        {
          "output_type": "stream",
          "name": "stdout",
          "text": [
            "'Affiliate Marketing Introduction pdf .gdoc'\n",
            " archive.zip\n",
            "'CAMBRIDGE STATISTICS TEXTBOOK .pdf'\n",
            "'Colab Notebooks'\n",
            "'CONCEPT OF ELECTROCHEMISTRY 2 (1).docx'\n",
            "'CONCEPT OF ELECTROCHEMISTRY 2 (2).docx'\n",
            "'CONCEPT OF ELECTROCHEMISTRY 2.docx'\n",
            "'Copy of Chemistry JUPEB Syllabus - syllabusNG.pdf'\n",
            "'Copy of Mathematics JUPEB Syllabus - syllabusNG.pdf'\n",
            "'Copy of Physics JUPEB Syllabus - syllabusNG.pdf'\n",
            "'Document from Temiloluwa Makinde'\n",
            "'Document from Temiloluwa Makinde (1)'\n",
            "'standardnormaltable_copy (1).pdf'\n",
            " standardnormaltable_copy.pdf\n"
          ]
        }
      ]
    },
    {
      "cell_type": "code",
      "source": [
        "zip_path = \"/content/drive/MyDrive/archive.zip\"\n",
        "extract_dir = \"/content/data\"\n",
        "\n",
        "with zipfile.ZipFile(zip_path, \"r\") as zip_ref:\n",
        "    zip_ref.extractall(extract_dir)\n",
        "\n",
        "print(\"Extraction Complete\")\n",
        "print(\"Folders found:\", os.listdir(extract_dir))"
      ],
      "metadata": {
        "colab": {
          "base_uri": "https://localhost:8080/"
        },
        "id": "ZqDe_CC8N2bZ",
        "outputId": "dedfc479-07f2-4a9d-9454-ddcc6fb1d5d0"
      },
      "execution_count": 12,
      "outputs": [
        {
          "output_type": "stream",
          "name": "stdout",
          "text": [
            "Extraction Complete\n",
            "Folders found: ['1HZhs21IE2oNn_V7PF_atNDizdhV8z-vP']\n"
          ]
        }
      ]
    },
    {
      "cell_type": "code",
      "source": [
        "# splitting our data into training and validation(testing) data\n",
        "\n",
        "base_dir = '/content/data'                      # where the extracted food folders are\n",
        "train_dir = '/content/data_split/train'         # new training folder\n",
        "val_dir = '/content/data_split/validation'      # new validation folder\n",
        "\n",
        "os.makedirs(train_dir, exist_ok=True) # basically making the folder\n",
        "os.makedirs(val_dir, exist_ok=True)\n",
        "\n",
        "\n",
        "for category in os.listdir(base_dir):  # os.listdir returns a string of everything in the 'base_dir'. 'category' is just a name\n",
        "    category_path = os.path.join(base_dir, category) # joins the path\n",
        "    if os.path.isdir(category_path):\n",
        "        os.makedirs(os.path.join(train_dir, category), exist_ok=True)\n",
        "        os.makedirs(os.path.join(val_dir, category), exist_ok=True)\n",
        "\n"
      ],
      "metadata": {
        "id": "Lj-7tJZtQAuQ"
      },
      "execution_count": 18,
      "outputs": []
    },
    {
      "cell_type": "code",
      "source": [],
      "metadata": {
        "id": "2HoLi17Ybw2k"
      },
      "execution_count": null,
      "outputs": []
    }
  ],
  "metadata": {
    "colab": {
      "provenance": [],
      "authorship_tag": "ABX9TyMYsQWV1agQU8VJA4SObHol",
      "include_colab_link": true
    },
    "kernelspec": {
      "display_name": "Python 3",
      "name": "python3"
    },
    "language_info": {
      "name": "python"
    }
  },
  "nbformat": 4,
  "nbformat_minor": 0
}