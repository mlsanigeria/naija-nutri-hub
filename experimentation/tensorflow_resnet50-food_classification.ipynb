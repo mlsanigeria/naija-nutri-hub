{
  "cells": [
    {
      "cell_type": "markdown",
      "metadata": {
        "id": "view-in-github",
        "colab_type": "text"
      },
      "source": [
        "<a href=\"https://colab.research.google.com/github/temiloluwamakinde1-design/naija-nutri-hub/blob/main/experimentation/tensorflow_resnet50-food_classification.ipynb\" target=\"_parent\"><img src=\"https://colab.research.google.com/assets/colab-badge.svg\" alt=\"Open In Colab\"/></a>"
      ]
    },
    {
      "cell_type": "code",
      "execution_count": null,
      "metadata": {
        "id": "i9LZuJoiubtT"
      },
      "outputs": [],
      "source": [
        "import tensorflow as tf\n",
        "import numpy as np\n",
        "import matplotlib.pyplot as plt\n",
        "import zipfile\n",
        "import os\n",
        "import shutil\n",
        "import random\n",
        "from tensorflow.keras.preprocessing.image import ImageDataGenerator\n",
        "from tensorflow.keras.applications import ResNet50\n",
        "from tensorflow.keras.applications.resnet50 import preprocess_input, decode_predictions\n",
        "from tensorflow.keras.layers import Dense, Flatten, GlobalAveragePooling2D\n",
        "from tensorflow.keras.models import Model\n",
        "from tensorflow.keras.preprocessing import image\n",
        "from google.colab import files\n",
        "import warnings\n",
        "import pydot\n",
        "import graphviz\n",
        "import\n",
        "\n",
        "\n",
        "# Suppress warnings and configure TensorFlow logging\n",
        "warnings.filterwarnings('ignore', category=FutureWarning)\n",
        "tf.get_logger().setLevel('ERROR')\n"
      ]
    },
    {
      "cell_type": "code",
      "execution_count": null,
      "metadata": {
        "colab": {
          "base_uri": "https://localhost:8080/"
        },
        "id": "tSC51hNUmkOr",
        "outputId": "7e9b9a76-e446-47bb-be24-d69c44ead2e7"
      },
      "outputs": [
        {
          "output_type": "stream",
          "name": "stdout",
          "text": [
            "Mounted at /content/drive\n"
          ]
        }
      ],
      "source": [
        "# connecting my drive to google colab\n",
        "from google.colab import drive\n",
        "drive.mount('/content/drive')"
      ]
    },
    {
      "cell_type": "code",
      "execution_count": null,
      "metadata": {
        "colab": {
          "base_uri": "https://localhost:8080/"
        },
        "id": "ZqDe_CC8N2bZ",
        "outputId": "44b2a54e-097e-4c60-993f-c60a624e1477"
      },
      "outputs": [
        {
          "output_type": "stream",
          "name": "stdout",
          "text": [
            "Extraction Complete\n",
            "Folders found: ['1HZhs21IE2oNn_V7PF_atNDizdhV8z-vP']\n"
          ]
        }
      ],
      "source": [
        "zip_path = \"/content/drive/MyDrive/archive.zip\"\n",
        "extract_dir = \"/content/data\"\n",
        "\n",
        "with zipfile.ZipFile(zip_path, \"r\") as zip_ref:\n",
        "    zip_ref.extractall(extract_dir)\n",
        "\n",
        "print(\"Extraction Complete\")\n",
        "print(\"Folders found:\", os.listdir(extract_dir))"
      ]
    },
    {
      "cell_type": "code",
      "source": [
        "!ls -lh /content/data"
      ],
      "metadata": {
        "colab": {
          "base_uri": "https://localhost:8080/"
        },
        "id": "RnstCra4IoPk",
        "outputId": "2a2f78b4-8e81-47b8-cc0d-638e5f4687e8"
      },
      "execution_count": 47,
      "outputs": [
        {
          "output_type": "stream",
          "name": "stdout",
          "text": [
            "total 844M\n",
            "-rw-r--r--  1 root root 844M Oct 20 13:50 1HZhs21IE2oNn_V7PF_atNDizdhV8z-vP\n",
            "drwxr-xr-x 16 root root 4.0K Oct 20 15:01 nigfoodai\n"
          ]
        }
      ]
    },
    {
      "cell_type": "code",
      "source": [
        "zip_path = \"/content/data/1HZhs21IE2oNn_V7PF_atNDizdhV8z-vP\"  # the ZIP file you saw\n",
        "with zipfile.ZipFile(zip_path, 'r') as zip_ref:\n",
        "    zip_ref.extractall(\"/content/data\")"
      ],
      "metadata": {
        "id": "vTYmG4SEQo9s"
      },
      "execution_count": 60,
      "outputs": []
    },
    {
      "cell_type": "code",
      "source": [
        "!ls /content/data"
      ],
      "metadata": {
        "colab": {
          "base_uri": "https://localhost:8080/"
        },
        "id": "9d16oHaMQ-rD",
        "outputId": "ff004264-8822-4515-c388-f30db607662c"
      },
      "execution_count": 61,
      "outputs": [
        {
          "output_type": "stream",
          "name": "stdout",
          "text": [
            "1HZhs21IE2oNn_V7PF_atNDizdhV8z-vP  nigfoodai\n"
          ]
        }
      ]
    },
    {
      "cell_type": "code",
      "execution_count": 62,
      "metadata": {
        "id": "Lj-7tJZtQAuQ"
      },
      "outputs": [],
      "source": [
        "# splitting our data into training and validation(testing) data\n",
        "\n",
        "base_dir = '/content/data/nigfoodai'         # where the extracted food folders are\n",
        "train_dir = '/content/data_split/train'         # new training der\n",
        "val_dir = '/content/data_split/validation'      # new validation folder\n",
        "\n",
        "os.makedirs(train_dir, exist_ok=True) # basically making the folder\n",
        "os.makedirs(val_dir, exist_ok=True)\n",
        "\n",
        "\n",
        "for category in os.listdir(base_dir):  # os.listdir returns a string of everything in the 'base_dir'. 'category' is just a name\n",
        "    category_path = os.path.join(base_dir, category) # joins the path\n",
        "    if os.path.isdir(category_path):\n",
        "        os.makedirs(os.path.join(train_dir, category), exist_ok=True)\n",
        "        os.makedirs(os.path.join(val_dir, category), exist_ok=True)\n",
        "\n",
        "        images = os.listdir(category_path)\n",
        "        random.shuffle(images)\n",
        "\n",
        "        train_images = images[:int(0.8 * len(images))]\n",
        "        val_images = images[int(0.8 * len(images)):]\n",
        "\n",
        "        for img in train_images:\n",
        "            shutil.copy(os.path.join(category_path, img),\n",
        "                os.path.join(train_dir, category, img))\n",
        "\n",
        "        for img in val_images:\n",
        "            shutil.copy(os.path.join(category_path, img),\n",
        "                os.path.join(val_dir, category, img))"
      ]
    },
    {
      "cell_type": "code",
      "execution_count": 58,
      "metadata": {
        "id": "2HoLi17Ybw2k",
        "colab": {
          "base_uri": "https://localhost:8080/"
        },
        "outputId": "7c85e294-01b9-43f6-94e4-3076dc3c9ac6"
      },
      "outputs": [
        {
          "output_type": "stream",
          "name": "stdout",
          "text": [
            "Found 3414 images belonging to 14 classes.\n",
            "Found 1699 images belonging to 14 classes.\n"
          ]
        }
      ],
      "source": [
        "# Data Preprocessing\n",
        "\n",
        "train_datagen = ImageDataGenerator(\n",
        "    preprocessing_function = preprocess_input,\n",
        "    rotation_range=20,\n",
        "    width_shift_range=0.2,\n",
        "    height_shift_range=0.2,\n",
        "    shear_range=0.2,\n",
        "    horizontal_flip=True,\n",
        "    fill_mode=\"nearest\"\n",
        ")\n",
        "\n",
        "val_datagen = ImageDataGenerator(\n",
        "    preprocessing_function = preprocess_input\n",
        ")\n",
        "\n",
        "train_generator = train_datagen.flow_from_directory(\n",
        "    \"/content/data_split/train\",\n",
        "    target_size=(224, 224),\n",
        "    batch_size=32,\n",
        "    class_mode=\"categorical\"\n",
        ")\n",
        "\n",
        "val_generator = val_datagen.flow_from_directory(\n",
        "    \"/content/data_split/validation\",\n",
        "    target_size=(224, 224),\n",
        "    batch_size=32,\n",
        "    class_mode=\"categorical\"\n",
        ")\n"
      ]
    },
    {
      "cell_type": "code",
      "source": [],
      "metadata": {
        "id": "BIGTe7dd-R31"
      },
      "execution_count": null,
      "outputs": []
    }
  ],
  "metadata": {
    "colab": {
      "provenance": [],
      "authorship_tag": "ABX9TyN+ehQRPdS7Ql8gfUlwmiOP",
      "include_colab_link": true
    },
    "kernelspec": {
      "display_name": "Python 3",
      "name": "python3"
    },
    "language_info": {
      "name": "python"
    }
  },
  "nbformat": 4,
  "nbformat_minor": 0
}